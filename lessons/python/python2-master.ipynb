{
 "cells": [
  {
   "cell_type": "markdown",
   "metadata": {},
   "source": [
    "# Scientific Programming II\n",
    "\n",
    "### Justin Kitzes"
   ]
  },
  {
   "cell_type": "markdown",
   "metadata": {},
   "source": [
    "In this second lesson, we'll apply the core elements of programming languages to a common scientific task: reading a data table, performing analysis on its contents, and saving the results. As we go through these different stages of analysis, we'll note how each task relates to one of the elements from the last lesson (we'll note these as `E1`, for example, for element 1, \"a thing\").\n",
    "\n",
    "For this lesson, we'll use two important scientific Python packages. `numpy` is the main package providing numerical analysis functions, and `pandas` is designed to make it easy to work with tabular data."
   ]
  },
  {
   "cell_type": "code",
   "execution_count": 2,
   "metadata": {
    "collapsed": false
   },
   "outputs": [],
   "source": [
    "# Import pandas and set up inline plotting\n",
    "import pandas as pd\n",
    "%matplotlib inline"
   ]
  },
  {
   "cell_type": "markdown",
   "metadata": {},
   "source": [
    "## 1. Reading and examining a data table\n",
    "\n",
    "Unless you're generating your own data by simulation (as in our previous logistic growth function), most scientific analyses begin with loading an external data set.\n",
    "\n",
    "For this lesson, we'll use data from the North American Breeding Bird Survey. As part of this survey, volunteers have driven cars along fixed routes once a year for the past forty years, stopping periodically along the way and counting all of the birds that they see when they do. The particular data tables that we'll work with today summarize the number of birds of many different species that were counted along routes in the state of California. The large table contains forty years of data for all sighted species, while the small table is a subset of the large table.\n",
    "\n",
    "You can download and play with this data yourself at:\n",
    "\n",
    "Pardieck, K.L., D.J. Ziolkowski Jr., M.-A.R. Hudson. 2015. North American Breeding Bird Survey Dataset 1966 - 2014, version 2014.0. U.S. Geological Survey, Patuxent Wildlife Research Center http://www.pwrc.usgs.gov/BBS/RawData/.\n",
    "\n",
    "__Tip:__ It's often a good idea to take a large data set and extract a small portion of it to use while building and testing your analysis code. Small data sets can be analyzed faster and allow you to see, visually, what the \"right answer\" should be when you write code to perform analysis. Determining whether your function gives the right answer on a small data set is the core idea behind unit testing, which we'll discuss later."
   ]
  },
  {
   "cell_type": "code",
   "execution_count": 3,
   "metadata": {
    "collapsed": false
   },
   "outputs": [
    {
     "name": "stdout",
     "output_type": "stream",
     "text": [
      "Species,2010,2011,2012,2013,2014\r\n",
      "Barn Owl,0,7,5,2,1\r\n",
      "Flammulated Owl,0,0,0,0,0\r\n",
      "Western Screech-Owl,2,1,2,5,0\r\n",
      "Great Horned Owl,33,41,52,52,50\r\n",
      "Northern Pygmy-Owl,5,3,15,16,10\r\n",
      "Burrowing Owl,104,26,32,8,17\r\n",
      "Spotted Owl,0,0,0,0,1\r\n",
      "Barred Owl,2,2,0,0,0\r\n",
      "Great Gray Owl,1,0,0,0,0\r\n",
      "Long-eared Owl,0,0,3,0,0\r\n",
      "Short-eared Owl,0,11,1,0,0\r\n"
     ]
    }
   ],
   "source": [
    "# You can use the exclamation point symbol (the \"bang\") to run a shell command\n",
    "# Let's use cat to see the contents of the small data table\n",
    "!cat birds_sm.csv"
   ]
  },
  {
   "cell_type": "code",
   "execution_count": 4,
   "metadata": {
    "collapsed": false
   },
   "outputs": [
    {
     "name": "stdout",
     "output_type": "stream",
     "text": [
      "<class 'pandas.core.frame.DataFrame'>\n"
     ]
    }
   ],
   "source": [
    "# Read the small table using pandas\n",
    "# The DataFrame function (E2) in pandas creates a thing (E1) called a DataFrame\n",
    "#pd.read_csv?\n",
    "birds_df = pd.read_csv('birds_sm.csv', index_col='Species')\n",
    "print(type(birds_df))"
   ]
  },
  {
   "cell_type": "code",
   "execution_count": 5,
   "metadata": {
    "collapsed": false
   },
   "outputs": [
    {
     "name": "stdout",
     "output_type": "stream",
     "text": [
      "                     2010  2011  2012  2013  2014\n",
      "Species                                          \n",
      "Barn Owl                0     7     5     2     1\n",
      "Flammulated Owl         0     0     0     0     0\n",
      "Western Screech-Owl     2     1     2     5     0\n",
      "Great Horned Owl       33    41    52    52    50\n",
      "Northern Pygmy-Owl      5     3    15    16    10\n",
      "Burrowing Owl         104    26    32     8    17\n",
      "Spotted Owl             0     0     0     0     1\n",
      "Barred Owl              2     2     0     0     0\n",
      "Great Gray Owl          1     0     0     0     0\n",
      "Long-eared Owl          0     0     3     0     0\n",
      "Short-eared Owl         0    11     1     0     0\n"
     ]
    }
   ],
   "source": [
    "# Now let's look at the contents of our data frame \"thing\" (E1)\n",
    "print(birds_df)"
   ]
  },
  {
   "cell_type": "code",
   "execution_count": 6,
   "metadata": {
    "collapsed": false
   },
   "outputs": [
    {
     "name": "stdout",
     "output_type": "stream",
     "text": [
      "2010    104\n",
      "2011     41\n",
      "2012     52\n",
      "2013     52\n",
      "2014     50\n",
      "dtype: int64\n",
      "Species\n",
      "Barn Owl                 7\n",
      "Flammulated Owl          0\n",
      "Western Screech-Owl      5\n",
      "Great Horned Owl        52\n",
      "Northern Pygmy-Owl      16\n",
      "Burrowing Owl          104\n",
      "Spotted Owl              1\n",
      "Barred Owl               2\n",
      "Great Gray Owl           1\n",
      "Long-eared Owl           3\n",
      "Short-eared Owl         11\n",
      "dtype: int64\n"
     ]
    }
   ],
   "source": [
    "# Like other \"things\" in Python, a data frame is an object\n",
    "# The object contains methods that operate on it (E2)\n",
    "#birds_sm.\n",
    "print(birds_df.max())\n",
    "print(birds_df.max(1))"
   ]
  },
  {
   "cell_type": "markdown",
   "metadata": {},
   "source": [
    "A data frame can be conceptualized as a kind of \"thing\", like we have above, that we can move around and perform operations on. However, it also shares some characteristics in common with a collection of things (E3) because we can use indexes and slicing to pull out subsets of the data table.\n",
    "\n",
    "There are two main ways that we can select rows and columns from our table: using the labels for the rows and columns or using numeric indexes for the row and column locations. Below we'll focus on label names - check out the `pandas` help for the method `iloc` to learn about using numeric indexes."
   ]
  },
  {
   "cell_type": "code",
   "execution_count": 7,
   "metadata": {
    "collapsed": false
   },
   "outputs": [
    {
     "name": "stdout",
     "output_type": "stream",
     "text": [
      "                     2010  2011  2012  2013  2014\n",
      "Species                                          \n",
      "Barn Owl                0     7     5     2     1\n",
      "Flammulated Owl         0     0     0     0     0\n",
      "Western Screech-Owl     2     1     2     5     0\n",
      "Great Horned Owl       33    41    52    52    50\n",
      "Northern Pygmy-Owl      5     3    15    16    10\n",
      "Burrowing Owl         104    26    32     8    17\n",
      "Spotted Owl             0     0     0     0     1\n",
      "Barred Owl              2     2     0     0     0\n",
      "Great Gray Owl          1     0     0     0     0\n",
      "Long-eared Owl          0     0     3     0     0\n",
      "Short-eared Owl         0    11     1     0     0\n"
     ]
    }
   ],
   "source": [
    "# Look at the table again and think about it as a collection (E3)\n",
    "print(birds_df)"
   ]
  },
  {
   "cell_type": "code",
   "execution_count": 8,
   "metadata": {
    "collapsed": false
   },
   "outputs": [
    {
     "name": "stdout",
     "output_type": "stream",
     "text": [
      "7\n",
      "2\n"
     ]
    }
   ],
   "source": [
    "# Use the loc method to pull out rows and columns by name\n",
    "# Like a matrix, the row goes first, then the column\n",
    "print(birds_df.loc['Barn Owl','2011'])\n",
    "print(birds_df.loc['Barred Owl','2010'])"
   ]
  },
  {
   "cell_type": "code",
   "execution_count": 9,
   "metadata": {
    "collapsed": false
   },
   "outputs": [
    {
     "name": "stdout",
     "output_type": "stream",
     "text": [
      "                 2011  2012  2013\n",
      "Species                          \n",
      "Burrowing Owl      26    32     8\n",
      "Spotted Owl         0     0     0\n",
      "Barred Owl          2     0     0\n",
      "Great Gray Owl      0     0     0\n",
      "Long-eared Owl      0     3     0\n",
      "Short-eared Owl    11     1     0\n",
      "                     2010  2011  2012  2013  2014\n",
      "Species                                          \n",
      "Barn Owl                0     7     5     2     1\n",
      "Flammulated Owl         0     0     0     0     0\n",
      "Western Screech-Owl     2     1     2     5     0\n",
      "Great Horned Owl       33    41    52    52    50\n"
     ]
    }
   ],
   "source": [
    "# You can use ranges of names, similar to what we saw before for lists\n",
    "print(birds_df.loc['Burrowing Owl':,'2011':'2013'])\n",
    "print(birds_df.loc[:'Great Horned Owl',:])"
   ]
  },
  {
   "cell_type": "code",
   "execution_count": 10,
   "metadata": {
    "collapsed": false
   },
   "outputs": [
    {
     "name": "stdout",
     "output_type": "stream",
     "text": [
      "                  2010  2014\n",
      "Species                     \n",
      "Barn Owl             0     1\n",
      "Great Horned Owl    33    50\n"
     ]
    }
   ],
   "source": [
    "# You can also use lists of names\n",
    "print(birds_df.loc[['Barn Owl', 'Great Horned Owl'], ['2010', '2014']])"
   ]
  },
  {
   "cell_type": "markdown",
   "metadata": {
    "collapsed": true
   },
   "source": [
    "## 2. Perform analysis\n",
    "\n",
    "Once we have our data table read in, we generally want to perform some sort of analysis with it. Let's presume that we want to get a count of the mean number of individuals sighted per species in each year. However, we only want the average over the species that were actually sighted in the state that year, ignoring species with counts of zero (this is a fairly common analysis in ecology).\n",
    "\n",
    "Conceptually, one way to approach this problem is to imagine looping through (E4) all of the years, that is the columns of the data frame, one by one. For each year, we want to count the number of species present, sum their counts, and divide the sum of the counts by the number of species seen. We should record this information in some other sort of collection (E3) - we'll use another data frame."
   ]
  },
  {
   "cell_type": "code",
   "execution_count": 11,
   "metadata": {
    "collapsed": false
   },
   "outputs": [
    {
     "name": "stdout",
     "output_type": "stream",
     "text": [
      "Index(['2010', '2011', '2012', '2013', '2014'], dtype='object')\n",
      "     2010 2011 2012 2013 2014\n",
      "Mean  NaN  NaN  NaN  NaN  NaN\n"
     ]
    }
   ],
   "source": [
    "# First, let's set up a new data frame to hold the result of our calculation\n",
    "# We'll get the column names from the bird table, then use DataFrame to make a new df\n",
    "years = birds_df.columns  # A collection called a Series in pandas\n",
    "print(years)\n",
    "\n",
    "results_df = pd.DataFrame(index=['Mean'], columns=years)\n",
    "print(results_df)"
   ]
  },
  {
   "cell_type": "code",
   "execution_count": 12,
   "metadata": {
    "collapsed": false
   },
   "outputs": [
    {
     "name": "stdout",
     "output_type": "stream",
     "text": [
      "Species\n",
      "Barn Owl                 0\n",
      "Flammulated Owl          0\n",
      "Western Screech-Owl      2\n",
      "Great Horned Owl        33\n",
      "Northern Pygmy-Owl       5\n",
      "Burrowing Owl          104\n",
      "Spotted Owl              0\n",
      "Barred Owl               2\n",
      "Great Gray Owl           1\n",
      "Long-eared Owl           0\n",
      "Short-eared Owl          0\n",
      "Name: 2010, dtype: int64\n",
      "147\n",
      "Species\n",
      "Barn Owl               False\n",
      "Flammulated Owl        False\n",
      "Western Screech-Owl     True\n",
      "Great Horned Owl        True\n",
      "Northern Pygmy-Owl      True\n",
      "Burrowing Owl           True\n",
      "Spotted Owl            False\n",
      "Barred Owl              True\n",
      "Great Gray Owl          True\n",
      "Long-eared Owl         False\n",
      "Short-eared Owl        False\n",
      "Name: 2010, dtype: bool\n",
      "6\n"
     ]
    }
   ],
   "source": [
    "# Next, let's figure out how we would do our analysis for one year, say 2010\n",
    "print(birds_df['2010'])\n",
    "\n",
    "print(birds_df['2010'].sum())\n",
    "\n",
    "print(birds_df['2010'] > 0)\n",
    "print((birds_df['2010'] > 0).sum())"
   ]
  },
  {
   "cell_type": "code",
   "execution_count": 13,
   "metadata": {
    "collapsed": false
   },
   "outputs": [
    {
     "name": "stdout",
     "output_type": "stream",
     "text": [
      "24.5\n",
      "24.5\n"
     ]
    }
   ],
   "source": [
    "# Our final calculation code could look like this\n",
    "birds_this_year = birds_df['2010']\n",
    "sum_counts = birds_this_year.sum()\n",
    "species_seen = (birds_this_year > 0).sum()\n",
    "result = sum_counts / species_seen\n",
    "\n",
    "print(result)\n",
    "print(147/6)"
   ]
  },
  {
   "cell_type": "markdown",
   "metadata": {
    "collapsed": true
   },
   "source": [
    "### Exercise 1 - Calculating mean counts for every year\n",
    "\n",
    "1. Put the above calculation code into a `for` loop (E4) that loops over all years, calculating the mean count of birds per species present each year, and stores the result in a new empty data frame.\n",
    "2. Put all of the code that you just wrote into a new function (E6) that takes, as an argument, a data frame of bird counts (like `bird_sm`) and returns the result data frame. Test it with `bird_sm` to make sure that it works.\n",
    "\n",
    "__Bonus:__\n",
    "\n",
    "1. Using label-based indexing, create a new data frame that has the same years but only includes these three species: Spotted Owl, Barred Owl, Great Gray Owl. Try running your function using this new smaller data frame. Did something go wrong? Try to read the error message and think about what happened.\n",
    "2. Add an `if-else` statement (E5) that checks for the problem that you just uncovered and takes some reasonable action when it occurs."
   ]
  },
  {
   "cell_type": "code",
   "execution_count": 14,
   "metadata": {
    "collapsed": false
   },
   "outputs": [
    {
     "name": "stdout",
     "output_type": "stream",
     "text": [
      "      2010  2011       2012  2013  2014\n",
      "Mean  24.5    13  15.714286  16.6  15.8\n"
     ]
    }
   ],
   "source": [
    "def count_birds(birds_df):\n",
    "    years = birds_df.columns\n",
    "    results_df = pd.DataFrame(index=['Mean'], columns=years)\n",
    "    \n",
    "    for year in years:\n",
    "        birds_this_year = birds_df[year]\n",
    "        sum_counts = birds_this_year.sum()\n",
    "        species_seen = (birds_this_year > 0).sum()\n",
    "        \n",
    "        if species_seen == 0:\n",
    "            results_df[year] = 0\n",
    "        else:\n",
    "            results_df[year] = sum_counts / species_seen\n",
    "    \n",
    "    return results_df\n",
    "\n",
    "print(count_birds(birds_df))"
   ]
  },
  {
   "cell_type": "code",
   "execution_count": 15,
   "metadata": {
    "collapsed": false
   },
   "outputs": [
    {
     "name": "stdout",
     "output_type": "stream",
     "text": [
      "                2010  2011  2012  2013  2014\n",
      "Species                                     \n",
      "Spotted Owl        0     0     0     0     1\n",
      "Barred Owl         2     2     0     0     0\n",
      "Great Gray Owl     1     0     0     0     0\n",
      "      2010  2011  2012  2013  2014\n",
      "Mean   1.5     2     0     0     1\n"
     ]
    }
   ],
   "source": [
    "birds_df_2 = birds_df.loc[['Spotted Owl', 'Barred Owl', 'Great Gray Owl']]\n",
    "print(birds_df_2)\n",
    "print(count_birds(birds_df_2))"
   ]
  },
  {
   "cell_type": "markdown",
   "metadata": {},
   "source": [
    "## 3. Save the results\n",
    "\n",
    "Now that we've managed to generate some useful results, we want to save them somewhere on our computer for later use. There are two broad types of outputs that we might want to save, tables and plots, and we'll use the built-in methods for data frames to do both.\n",
    "\n",
    "Getting a plot to look just right can take a very long time. Here we'll just use the pandas default styles. For more help on plotting, have a look at the extra lesson on `matplotlib`."
   ]
  },
  {
   "cell_type": "code",
   "execution_count": 16,
   "metadata": {
    "collapsed": false
   },
   "outputs": [
    {
     "name": "stdout",
     "output_type": "stream",
     "text": [
      "      2010  2011       2012  2013  2014\n",
      "Mean  24.5    13  15.714286  16.6  15.8\n"
     ]
    }
   ],
   "source": [
    "# First we make sure that we've saved our results table\n",
    "results_df = count_birds(birds_df)\n",
    "print(results_df)"
   ]
  },
  {
   "cell_type": "code",
   "execution_count": 17,
   "metadata": {
    "collapsed": true
   },
   "outputs": [],
   "source": [
    "# Data frames have a method to save themselves as a csv file - easy!\n",
    "results_df.to_csv('birds_results.csv')"
   ]
  },
  {
   "cell_type": "code",
   "execution_count": 18,
   "metadata": {
    "collapsed": false
   },
   "outputs": [
    {
     "name": "stderr",
     "output_type": "stream",
     "text": [
      "/Users/jkitzes/miniconda3/lib/python3.4/site-packages/matplotlib/axes/_base.py:2562: UserWarning: Attempting to set identical left==right results\n",
      "in singular transformations; automatically expanding.\n",
      "left=0.0, right=0.0\n",
      "  'left=%s, right=%s') % (left, right))\n"
     ]
    },
    {
     "data": {
      "text/plain": [
       "<matplotlib.axes._subplots.AxesSubplot at 0x107982208>"
      ]
     },
     "execution_count": 18,
     "metadata": {},
     "output_type": "execute_result"
    },
    {
     "data": {
      "image/png": "[encoded data removed]",
      "text/plain": [
       "<matplotlib.figure.Figure at 0x103dad828>"
      ]
     },
     "metadata": {},
     "output_type": "display_data"
    },
    {
     "data": {
      "image/png": "[encoded data removed]",
      "text/plain": [
       "<matplotlib.figure.Figure at 0x10791df98>"
      ]
     },
     "metadata": {},
     "output_type": "display_data"
    }
   ],
   "source": [
    "# Data frames also have a method to plot their contents\n",
    "# There's one trick though - by default they put the rows on the x axis and columns on the y\n",
    "# We want the reverse, so we need to transpose our data frame before plotting it\n",
    "results_df.plot()\n",
    "results_df.T.plot()"
   ]
  },
  {
   "cell_type": "code",
   "execution_count": 19,
   "metadata": {
    "collapsed": false
   },
   "outputs": [
    {
     "data": {
      "image/png": "[encoded data removed]",
      "text/plain": [
       "<matplotlib.figure.Figure at 0x1098be2b0>"
      ]
     },
     "metadata": {},
     "output_type": "display_data"
    }
   ],
   "source": [
    "# With a few extra steps, we can save the plot\n",
    "# This code looks strange, since we haven't talked about the details of matplotlib\n",
    "# At this stage, it's best to just use it as a recipe\n",
    "ax = results_df.T.plot()  # Save the plot as an axis object\n",
    "fig = ax.get_figure()  # From the axis object, get the whole figure\n",
    "fig.savefig('birds_results.pdf')  # Save the figure"
   ]
  },
  {
   "cell_type": "markdown",
   "metadata": {
    "collapsed": true
   },
   "source": [
    "### Exercise 2 - A complete analysis\n",
    "\n",
    "1. Using all of the code that we wrote above, put the following lines of code in the cell below (this will form a complete analysis that would run without the rest of this notebook):\n",
    "    - Import the pandas package\n",
    "    - Read the `birds_sm.csv` table\n",
    "    - Define a function to perform the analysis (just copy the one you wrote in Exercise 1)\n",
    "    - Use that function to make a results dataframe for the `birds_sm.csv` data\n",
    "    - Saves the resulting table as `birds_results.csv`\n",
    "    - Saves a plot of the result as `birds_results.pdf`\n",
    "2. To test that your cell works on its own, go to the Jupyter menu bar, under Kernel, and choose \"Restart Kernel\". This will restart your notebook, so that everything that you've run so far (all the variables stored in memory, in particular) is erased. Run the cell below, and make sure it works correctly.\n",
    "3. Instead of `bird_sm.csv`, make your cell use `bird_lg.csv` and see what the saved results look like. If necessary, modify your code and variable names so that all you have to do is change two letters (`sm` to `lg`) in one place in the code to make this change."
   ]
  },
  {
   "cell_type": "code",
   "execution_count": 20,
   "metadata": {
    "collapsed": false
   },
   "outputs": [
    {
     "data": {
      "image/png": "[encoded data removed]",
      "text/plain": [
       "<matplotlib.figure.Figure at 0x1098be1d0>"
      ]
     },
     "metadata": {},
     "output_type": "display_data"
    }
   ],
   "source": [
    "import pandas as pd\n",
    "\n",
    "birds_df = pd.read_csv('birds_lg.csv', index_col='Species')\n",
    "\n",
    "def count_birds(birds_df):\n",
    "    years = birds_df.columns\n",
    "    results_df = pd.DataFrame(index=['Mean'], columns=years)\n",
    "    \n",
    "    for year in years:\n",
    "        birds_this_year = birds_df[year]\n",
    "        sum_counts = birds_this_year.sum()\n",
    "        species_seen = (birds_this_year > 0).sum()\n",
    "        \n",
    "        if species_seen == 0:\n",
    "            results_df[year] = 0\n",
    "        else:\n",
    "            results_df[year] = sum_counts / species_seen\n",
    "    \n",
    "    return results_df\n",
    "\n",
    "results_df = count_birds(birds_df)\n",
    "\n",
    "results_df.to_csv('birds_results.csv')\n",
    "\n",
    "ax = results_df.T.plot()\n",
    "fig = ax.get_figure()\n",
    "fig.savefig('birds_results.pdf')"
   ]
  }
 ],
 "metadata": {
  "kernelspec": {
   "display_name": "Python 3",
   "language": "python",
   "name": "python3"
  },
  "language_info": {
   "codemirror_mode": {
    "name": "ipython",
    "version": 3
   },
   "file_extension": ".py",
   "mimetype": "text/x-python",
   "name": "python",
   "nbconvert_exporter": "python",
   "pygments_lexer": "ipython3",
   "version": "3.4.3"
  }
 },
 "nbformat": 4,
 "nbformat_minor": 0
}
